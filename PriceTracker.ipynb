{
 "cells": [
  {
   "cell_type": "markdown",
   "metadata": {},
   "source": [
    "# Price and Product Tracker\n",
    "---\n",
    "---\n",
    "\n",
    "This price and product tracker tracks product prices and product details from the German \"Kleinanzeigen\" website. It can be used for any kind of product, but is optimized for the product type \"cameras\"."
   ]
  },
  {
   "cell_type": "code",
   "execution_count": null,
   "metadata": {},
   "outputs": [],
   "source": [
    "import requests\n",
    "from bs4 import BeautifulSoup\n",
    "import pandas as pd\n",
    "import re"
   ]
  },
  {
   "cell_type": "markdown",
   "metadata": {},
   "source": [
    "# PART A: Data Acquisition\n",
    "---"
   ]
  },
  {
   "cell_type": "markdown",
   "metadata": {},
   "source": [
    "## Step 1: Ask user for product-name and keywords\n",
    "\n",
    "This piece of code asks the user for a specific product on the German website \"Kleinanzeigen\". The user is also asked for some keywords describing the product. The program asks for user-inputs in **German** language.\n",
    "\n",
    "**Example Product**: Nikon D 7500\n",
    "\n",
    "**Example Keywords**: Neu Objektiv Kit OVP"
   ]
  },
  {
   "cell_type": "code",
   "execution_count": 24,
   "metadata": {},
   "outputs": [],
   "source": [
    "product_input = str(input('Which product are you looking for? (German)'))\n",
    "i = 0\n",
    "product = ''\n",
    "\n",
    "for words in product_input.split(' '):\n",
    "    if i == (len(product_input.split(' '))-1):\n",
    "        product = product + words\n",
    "    else: \n",
    "        product = product + words + '-'\n",
    "    i += 1\n",
    "\n",
    "keys_input = str(input('Which keywords would you like to filter for? (German, no comma, max. 4)'))\n",
    "i = 0\n",
    "keys = []\n",
    "\n",
    "for words in keys_input.split(' '):\n",
    "    keys += [words]"
   ]
  },
  {
   "cell_type": "markdown",
   "metadata": {},
   "source": [
    "## Step 2: Create product list for specific product\n",
    "\n",
    "This code snippet creates a product list. The output is a csv file."
   ]
  },
  {
   "cell_type": "code",
   "execution_count": 26,
   "metadata": {},
   "outputs": [
    {
     "name": "stdout",
     "output_type": "stream",
     "text": [
      "You are looking for: Nikon D 7500\n",
      "49 products saved to products_all.csv-file in your folder.\n"
     ]
    }
   ],
   "source": [
    "url = f'https://www.kleinanzeigen.de/s-{product}/k0'\n",
    "\n",
    "# count number of subpages\n",
    "\n",
    "p = requests.get(url)\n",
    "website_data = BeautifulSoup(p.text, 'html.parser')\n",
    "number_of_pages = len(website_data.find_all('a', {'class': 'pagination-page'}))\n",
    "\n",
    "# get productlist\n",
    "\n",
    "def get_productlist(url):\n",
    "    \n",
    "    # check each page\n",
    "    for i in range(1,number_of_pages): \n",
    "        if i > 1: \n",
    "            url = f'https://www.kleinanzeigen.de/s-seite:{i}/{product}/k0'\n",
    "        \n",
    "        # get html content\n",
    "        r = requests.get(url)\n",
    "        html_content = BeautifulSoup(r.text, 'html.parser')\n",
    "        \n",
    "        # get productlist\n",
    "        if i == 1:\n",
    "            productslist = []\n",
    "        results = html_content.find_all('div', {'class': 'aditem-main'})\n",
    "        for item in results:\n",
    "            if item.find('a', {'class': 'ellipsis'}) is not None:\n",
    "                products = {\n",
    "                    'title': item.find('a', {'class': 'ellipsis'}).text.replace(',','.'),\n",
    "                    'price': int(item.find('p', {'class': 'aditem-main--middle--price-shipping--price'}).text.replace(' ','').replace('\\n','').replace('.','').split(\"€\")[0].replace('VB','0').replace('Zuverschenken','0').replace('\"','0')),\n",
    "                    'link': item.find('a', {'class': 'ellipsis'})['href']\n",
    "                }\n",
    "            productslist.append(products)\n",
    "    return productslist\n",
    "\n",
    "def create_dataframe(productslist):\n",
    "    df_products = pd.DataFrame(productslist)\n",
    "    df_products = df_products.sort_values(by=['price'])\n",
    "    df_products = df_products.drop_duplicates()\n",
    "    df_products.to_csv('products_all.csv', index=False)\n",
    "    print('You are looking for: ' + product_input)\n",
    "    print(len(df_products), 'products saved to products_all.csv-file in your folder.')\n",
    "    return df_products\n",
    "\n",
    "df_products = create_dataframe(get_productlist(url))"
   ]
  },
  {
   "cell_type": "markdown",
   "metadata": {},
   "source": [
    "## Step 3: Filter for key words in title (optional)\n",
    "\n",
    "This code snippet creates a product list. The output is a csv file."
   ]
  },
  {
   "cell_type": "code",
   "execution_count": 20,
   "metadata": {},
   "outputs": [
    {
     "name": "stdout",
     "output_type": "stream",
     "text": [
      "Your keywords are: ['Neu', 'OVP', 'einwandfrei', 'gepflegt']\n",
      "0 filtered products saved to products_key.csv-file in your folder.\n"
     ]
    }
   ],
   "source": [
    "# optional: reduce list products with keywords\n",
    "\n",
    "print('Your keywords are:', keys)\n",
    "i = 0\n",
    "\n",
    "def find_keywords(df_products):\n",
    "    df_products_key = pd.DataFrame()\n",
    "    for entry in df_products['title']:\n",
    "        if keys[0] in entry or keys[1] in entry or keys[2] in entry or keys[3] in entry:\n",
    "            filtered_entry = df_products[df_products['title'] == entry]\n",
    "            df_products_key = pd.concat([df_products_key, filtered_entry], ignore_index=True)\n",
    "    df_products_key.to_csv('products_key.csv', index=False)\n",
    "    print(len(df_products_key), 'filtered products saved to products_key.csv-file in your folder.')\n",
    "\n",
    "find_keywords(df_products)"
   ]
  },
  {
   "cell_type": "markdown",
   "metadata": {},
   "source": [
    "## Step 4: Get product description of each product\n",
    "\n",
    "This code snippet fetches all products descriptions from each subpage. It takes around 30sec to generate an output for around 50 items. The output is a csv file."
   ]
  },
  {
   "cell_type": "code",
   "execution_count": null,
   "metadata": {},
   "outputs": [
    {
     "name": "stdout",
     "output_type": "stream",
     "text": [
      "Products details saved to products_details.csv-file in your folder.\n"
     ]
    }
   ],
   "source": [
    "# add column in dataframe\n",
    "df_products_detailed = df_products\n",
    "df_products_detailed[\"description\"] = ' '\n",
    "i = 0\n",
    "\n",
    "# check each page\n",
    "for subpage in df_products['link']:\n",
    "    if type(subpage) == str:\n",
    "        url = 'https://www.kleinanzeigen.de' + subpage\n",
    "        description = ''\n",
    "        q = requests.get(url)\n",
    "        html_content = BeautifulSoup(q.text, 'html.parser')\n",
    "        if html_content.find('p', {'id': 'viewad-description-text'}) is not None:\n",
    "            description = html_content.find('p', {'id': 'viewad-description-text'}).text.replace('\\n','').replace('  ','')\n",
    "        df_products_detailed.loc[i,'description'] = description\n",
    "        i += 1\n",
    "\n",
    "df_products_detailed.to_csv('products_details.csv', index=False)\n",
    "\n",
    "print('Products details saved to products_details.csv-file in your folder.')\n",
    "\n",
    "# Bug: item description is in wrong line..."
   ]
  },
  {
   "cell_type": "markdown",
   "metadata": {},
   "source": [
    "# Part B: Preprocessing\n",
    "---"
   ]
  },
  {
   "cell_type": "markdown",
   "metadata": {},
   "source": [
    "## Step 1: Sentence & Word Tokenization"
   ]
  },
  {
   "cell_type": "code",
   "execution_count": null,
   "metadata": {},
   "outputs": [
    {
     "name": "stdout",
     "output_type": "stream",
     "text": [
      "Biete\n",
      "meine\n",
      "Nikon\n",
      "D7500\n",
      "als\n",
      "Body\n",
      "inklusive\n",
      "Buch\n",
      "zur\n",
      "Kamera\n",
      "an\n",
      ".\n",
      "Wurde\n",
      "immer\n",
      "pfleglich\n",
      "behandelt\n",
      ".\n",
      "Kein\n",
      "Sand\n",
      ",\n",
      "kein\n",
      "Wasser\n",
      ",\n",
      "kein\n",
      "Staub\n",
      ".\n",
      "Kleiner\n",
      "Mangel\n",
      ":\n",
      "Menütaste\n",
      "Schrift\n",
      "beschädigt\n",
      "(\n",
      "s.\n",
      "Bild\n",
      ")\n",
      "und\n",
      "leichte\n",
      "Gebrauchsspuren\n",
      ".\n",
      "Die\n",
      "Kamera\n",
      "hat\n",
      "nur\n",
      "9800\n",
      "Auslösungen\n",
      ".\n",
      "Der\n",
      "Akku\n",
      "ist\n",
      "im\n",
      "tadellosen\n",
      "Zustand\n",
      "(\n",
      "0=wie\n",
      "neu).Habe\n",
      "auch\n",
      "einige\n",
      "Objektive\n",
      "und\n",
      "weiteres\n",
      "Zubehör\n",
      "im\n",
      "Angebot\n",
      ".\n"
     ]
    }
   ],
   "source": [
    "import spacy\n",
    "nlp = spacy.load('de_core_news_sm')\n",
    "\n",
    "doc = nlp(\"Biete meine Nikon D7500 als Body inklusive Buch zur Kamera an.Wurde immer pfleglich behandelt. Kein Sand, kein Wasser, kein Staub.Kleiner Mangel: Menütaste Schrift beschädigt (s. Bild) und leichte Gebrauchsspuren.Die Kamera hat nur 9800 Auslösungen.Der Akku ist im tadellosen Zustand (0=wie neu).Habe auch einige Objektive und weiteres Zubehör im Angebot.\")\n",
    "\n",
    "for sentence in doc.sents:\n",
    "    for word in sentence:\n",
    "        print(word)\n",
    "\n",
    "# this part is currently under construction"
   ]
  },
  {
   "cell_type": "markdown",
   "metadata": {},
   "source": [
    "## Step 2: Stemming and Lemmatization"
   ]
  },
  {
   "cell_type": "code",
   "execution_count": null,
   "metadata": {},
   "outputs": [],
   "source": []
  },
  {
   "cell_type": "markdown",
   "metadata": {},
   "source": [
    "# Part C: Feature Engineering\n",
    "---"
   ]
  },
  {
   "cell_type": "markdown",
   "metadata": {},
   "source": [
    "..."
   ]
  },
  {
   "cell_type": "code",
   "execution_count": null,
   "metadata": {},
   "outputs": [],
   "source": []
  },
  {
   "cell_type": "markdown",
   "metadata": {},
   "source": [
    "# Part C (alternative): Regex\n",
    "---"
   ]
  },
  {
   "cell_type": "markdown",
   "metadata": {},
   "source": [
    "## Step 1: Find specific products via product description (regex)\n",
    "\n",
    "**Note:** This steps is written for the product type \"cameras\" and cannot be used for other products. Instead of step 3, there is a better way to find specific cameras using **regular expressions**.\n",
    "\n",
    "This piece of code filters all product descriptions with regard to:\n",
    "- expressions describing the camera as \"little used\".\n",
    "- less than 10.000 shutter releases (which is a good number for a used camera)"
   ]
  },
  {
   "cell_type": "code",
   "execution_count": null,
   "metadata": {},
   "outputs": [
    {
     "name": "stdout",
     "output_type": "stream",
     "text": [
      "***Achtung! Die abgebildete Handschlaufe wird NICHT mitverkauft und ist nicht Teil dieses Angebots! ***Sehr wenig genutzte Nikon D7500 DSLR Spiegelreflexkamera (6181 Auslösungen, es werden aber noch ein paar dazukommen).Wurde als Zweitkamera genutzt.Mittlerweile habe ich auch einfach zu viele Kameras (ja, das geht). Also Kamerapark verkleinern...Die D7500 liegt ausgezeichnet in der Handund hat wegen der vielen Knöpfe und Rädchen jede Menge Einstellmöglichkeiten, ohne in Menüstrukturen eintauchen zu müssen. Für ambitionierte Fotografen das ideale Gerät!Die Kamera hat keine sichtbaren Gebrauchspuren.Die Kamera war Teil eines Kits, das Objektiv wurde bereits vor längerem verkauft. Mitgeliefert wird der nicht genutzte und originalverpackte Gurt, ein original Akku, Ladegerät, der Kameradeckel, ein USB-Kabel und die OVP.***Achtung! Die abgebildete Handschlaufe wird NICHT mitverkauft und ist nicht Teil dieses Angebots! ***Abholung bevorzugt!Nichtraucherhaushalt.Fragen? Fragen!*** so lange die Anzeige online ist, ist der Artikel noch zu haben ****** Bitte keine \"Was ist der letzte Preis?\"-Anfragen. Macht stattdessen bitte ein Angebot. Unrealistische Preisvorschläge und unhöfliche Anfragen werden je nach Laune auch mal ignoriert. ***Beachten Sie bitte auch unsere anderen Angebote.Zwischenverkauf vorbehalten. Irrtümer trotz sorgfältiger Beschreibung vorbehalten.Abholung bevorzugt. Versand gegen Aufpreis. Versandrisiko liegt beim Käufer. Eventuelle Paypal-, GiroPay oder PayDirektGebühren trägt der Käufer (entweder senden an Freunde oder entsprechend mehr überweisen). Adresse bei Paypal, PayDirekt oder Giropay MUSS mit der Lieferadresse übereinstimmen und im Betreff angegeben werden. Die Zahlfunktion von Kleinanzeigen bieten wir nicht an. Der Versand ist nicht Teil des Kaufvertrags und ist daher bei einer etwaigen Rückabwicklung nicht erstattungsfähig.Privatverkauf. Keine Garantie, keine Gewährleistung, keine Rücknahme, keine Sachmängelhaftung, kein Umtausch oder sonstiger Quatsch.\n",
      "Nikon D7500 21Mp 4k Video w-Lan Bluetooth wie Neu C.a 2500 Auslösungen.Original Verpackung.\n",
      "Biete meine Nikon D7500 als Body inklusive Buch zur Kamera an.Wurde immer pfleglich behandelt. Kein Sand, kein Wasser, kein Staub.Kleiner Mangel: Menütaste Schrift beschädigt (s. Bild) und leichte Gebrauchsspuren.Die Kamera hat nur 9800 Auslösungen.Der Akku ist im tadellosen Zustand (0=wie neu).Habe auch einige Objektive und weiteres Zubehör im Angebot.\n",
      "Verkaufe meine Nikon D7500 in gutem Zustand mit einem super allround Objektiv, dem Sigma 17-70 mm f2.8-4 dc macro os. Die Kamera ist eine der modernsten Spiegelreflexkameras und besitzt ein Touchdisplay und den sehr rauscharmen Sensor der Nikon D500, sodass auch gute Aufnahmen bei Nacht gelingen. Restliche Specs sind auf der Herstellerseite zu finden. Die Kamera hat 62554 Auslösungen. Mit dabei sind Ladegerät, Tragegurt und Akku sowie das genannte Objektiv.\n",
      "Die Kamera ist in einem sehr guten Zustand und wurde nur wenig benutzt. Sehr wenige Auslösungen, teilweise sind noch die Schutzfolien verklebt.Versand möglich\n",
      "Die Nikon D7500 ist eine wunderbare DSLR im APS-C Format. Nikon selbst positioniert sie im Semiprofi Segment.Ich habe die Kamera 12/2019 gekauft und seitdem ca. 33000 Bilder damit gemacht. Sie wurde stets schonend behandelt und hat entsprechend geringe Gebrauchsspuren. Natürlich ist ein Panzerglas auf dem Display.Mit dabei:\t- Die Kamera selbst (ohne SD Karte)\t- Das Sigma 17-70 F/2.8-4.0 DC Contemporary\t- Beide Deckel und ein Streulichtfilter zum Objektiv\t- Ein Orignal Nikon Akku (Zustand 0 = wie neu)\t- Das Nikon Ladegerät\t- Der Nikon Tragegurt (nie verwendet)\t- Die Originalverpackung\t- Das Buch \"Nikon D7500\" von Michael Gradias (als eBook)Einige Details:\t- CMOS-Sensor APS-C 23,6 x 15,8 mm (Cropfaktor 1,5)\t- 21,5 Megapixel (physikalisch) und 20,9 Megapixel (effektiv)\t- TFT LCD Monitor mit 3,2\" (8,0 cm) und 922.000 Bildpunkten\t- ISO 100 bis ISO 51.200 (Automatik)Weitere Infos findet man z.B. hier:https://www.digitalkamera.de/Kamera/Nikon/D7500.aspxVerkauf wegen Umstieg auf Nikon Z Vollformat.Weitere Objektive findest Du in meinen anderen Anzeigen - Mengenrabatt ist denkbar.Versand ist möglich. Abholung wäre mir aber lieber, zumal dann die Möglichkeit zum Testen besteht.Privatverkauf!Die Ware wird unter Ausschluss jeglicher Gewährleistung / Sachmangelhaftung verkauftBei Fragen - außer \"letzte Preis\" - gerne melden.\n",
      "Direkt vorne weg: Ich verkaufe auch noch ein 80-200mm 2.8 Nikon Objektiv in meinen anderen AngebotenAb zwei Artikeln gibt es kostenlosen Versand!Zum Verkauf steht eine wenig genutzte Nikon D7500Leider liegt sie bei mir nur im Schrank rum und ich hole sie vielleicht noch 5 Mal im Jahr raus. Daher soll sie woanders hinIch kann keine besonderen Gebrauchsspuren entdecken, der Bildschirm hat immer noch das Panzerglas drauf (matt) und Staub sehe ich auch keinen auf dem Sensor/Spiegel. Die Objektive wurden auch nur sehr selten gewechselt. Auslöseanzahl liegt bei 19100Mit dabei ist die OVP, Anleitung, Ladegerät, 2x Akku mit guter Kapazität, die Umhängeschlaufe und die Schutzkappe für den ObjektivanschlussTierfreier NichtraucherhaushaltAnsehen und abholen in Ingolstadt oder Versand für 6,99€Privatverkauf, keine Garantie, Umtausch oder Rücknahme\n",
      "***Achtung! Die abgebildete Handschlaufe wird NICHT mitverkauft und ist nicht Teil dieses Angebots! ***Sehr wenig genutzte Nikon D7500 DSLR Spiegelreflexkamera (6181 Auslösungen, es werden aber noch ein paar dazukommen).Wurde als Zweitkamera genutzt.Mittlerweile habe ich auch einfach zu viele Kameras (ja, das geht). Also Kamerapark verkleinern...Die D7500 liegt ausgezeichnet in der Handund hat wegen der vielen Knöpfe und Rädchen jede Menge Einstellmöglichkeiten, ohne in Menüstrukturen eintauchen zu müssen. Für ambitionierte Fotografen das ideale Gerät!Die Kamera hat keine sichtbaren Gebrauchspuren.Die Kamera war Teil eines Kits, das Objektiv wurde bereits vor längerem verkauft. Mitgeliefert wird der nicht genutzte und originalverpackte Gurt, ein original Akku, Ladegerät, der Kameradeckel, ein USB-Kabel und die OVP.***Achtung! Die abgebildete Handschlaufe wird NICHT mitverkauft und ist nicht Teil dieses Angebots! ***Abholung bevorzugt!Nichtraucherhaushalt.Fragen? Fragen!*** so lange die Anzeige online ist, ist der Artikel noch zu haben ****** Bitte keine \"Was ist der letzte Preis?\"-Anfragen. Macht stattdessen bitte ein Angebot. Unrealistische Preisvorschläge und unhöfliche Anfragen werden je nach Laune auch mal ignoriert. ***Beachten Sie bitte auch unsere anderen Angebote.Zwischenverkauf vorbehalten. Irrtümer trotz sorgfältiger Beschreibung vorbehalten.Abholung bevorzugt. Versand gegen Aufpreis. Versandrisiko liegt beim Käufer. Eventuelle Paypal-, GiroPay oder PayDirektGebühren trägt der Käufer (entweder senden an Freunde oder entsprechend mehr überweisen). Adresse bei Paypal, PayDirekt oder Giropay MUSS mit der Lieferadresse übereinstimmen und im Betreff angegeben werden. Die Zahlfunktion von Kleinanzeigen bieten wir nicht an. Der Versand ist nicht Teil des Kaufvertrags und ist daher bei einer etwaigen Rückabwicklung nicht erstattungsfähig.Privatverkauf. Keine Garantie, keine Gewährleistung, keine Rücknahme, keine Sachmängelhaftung, kein Umtausch oder sonstiger Quatsch.\n",
      "Hallo,ich biete eine Nikon D 7500 in sehr gutem Zustand!NIKON D 7500 GEHÄUSE - VBA510AE Spiegelreflexkamera, 20,9 Megapixel, Touchscreen Display, WLAN, Schwarz.Auf beiden Displays sind Folien aufgetragen, sodass alles kratzfrei ist.Zubehör: Original Akku Nikon EN-EL 15a Ladegerät Nikon MH-25a Original Nikon Gurt BenutzerhandbuchInklusive ist noch eine Peak Design Cuff Handschlaufe in Schwarz, die ich nachgerüstet habe.—— Auslösungen 17280 !! ——Neupreis 979€. Wir sind ein rauch- und tierhaarfreier Haushalt.Weiteres Fotozubehör ist in meinen Anzeigen.Bei Fragen können Sie sich gerne melden.Liebe GrüßeMarilena\n",
      "Verkaufe selten genutzte D7500 mitNikon Objektiven 35mm f1.8, 50mm f1.8, 85mm f1.8 mit B&W UV Haze Filtern sowie zwei Sigma Zoom Objektiven 10-20 f3.5, 24-70 f2.8zwei Akku und LadegerätErst 3094 AuslösungenAlles in sehr gutem Zustand.Bevorzugt natürlich Abholung.Bitte um realistische Angebote.Auch Tausch gegen Nikon Vollformat denkbar.Da privat Verkauf keine Gewährleistung und Garantie. Umtausch ausgeschlossen.\n",
      "Wir verkaufen hier unsere Spiegelreflexkamera.Die Kamera war ein Geschenk und wurde nur probehalber benutzt.Leider ist sie für uns als Laien zu umfangreich.Deshalb die sehr geringe Anzahl von nur 2.000 Auslösungen und ein Allgemeinzustand der als „neuwertig“ zu beschreiben ist.Das angebotene Set beinhaltet:- Nikon D7500 mit weniger als 2.000 Auslösungen (Ausgelesen aktuell 1967 Auslösungen)- Nikkor Lens AF-S DX 16-80mm Objektiv- Metz mecablitz 52 AF-1 digital (neu und unbenutzt)- 128GB Speicherkarte ScanDisk Extreme PRO SDXC mit 170MB/sKaufdatum des Sets war 11.12.2019 und es besteht aktuell noch Hersteller Garantie bis 11.12.2024 auf das Objektiv.Die genauen technischen Spezifikationen entnehmen sie bitte den entsprechenden Seiten der Hersteller.Es handelt sich bei uns um eine Privatperson, Rücknahme und Garantie sind ausgeschlossen.\n",
      "Ich verkaufe meine Nikon D7500 im Set mit dem Tamron 24-70mm F/2.8 Di VC USD G2.Die Kamera hat nur 9800 Auslösungen und wenige Gebrauchsspuren.Das Objektiv liefert knackig scharfe Bilder. Leider gibt es hier einen kleinen Kratzer im Glas (s. Bilder), der aber keinerlei die Bildqualität beeinflusst. Ansonsten auch hier nur leichten Gebrauchsspuren. Beim Objektiv fehlt zudem leider die Gegenlichtblende und der originale Bajonetdeckel.Gerne vorbeikommen und testen!Ich habe noch weitere Objektive und Zubehör im Angebot.\n",
      "Ich biete eine wenig genutzte Spiegelreflexcamera von Nikon inkl. zweier Objektive (AF-S NIKKOR 50mm f/1.8G + AF-S DX NIKKOR 18-105mm f/3.5-5.6G ED VR), Akku, Ladegrät und Cameratasche.Versand möglich. Bei Fragen gerne melden.Privatkauf, daher keine Garantie oder Rücknahme.\n",
      "Nikon D7500 + Nikkor 18-140 in einwandfreiem Zustand. Im September 2023 neu gekauft.Gratis Nikkor 18-55Im Set ist alles im Originalkarton enthalten – Ladegerät, Akku, Tragegurt.Die Kamera machte 11.600 Fotos. Das 18-140-Objektiv wurde sehr selten verwendet.890€ VBAbholung 35396\n",
      "re: 2.2.1\n",
      "\n"
     ]
    }
   ],
   "source": [
    "print(df_products[\"description\"][7])\n",
    "\n",
    "# regex\n",
    "pattern = r'(\\d{4}|((W|w)+(enig)+((e|en)?)))+((\\smal)?)+(\\s+(A|a)+(us)+((ge)?)+(lös))|(A|a)+(uslösung)+((\\w+)?)+(\\s)+(\\d{4})|(wenig|kaum|nie|nicht|selten)+(\\s)+(genutzt|benutzt|verwendet|fotografiert)'\n",
    "\n",
    "for description in df_products[\"description\"]:\n",
    "    if len(re.findall(pattern, description)) != 0:\n",
    "        print (description)"
   ]
  },
  {
   "cell_type": "markdown",
   "metadata": {},
   "source": [
    "# Part D: Model Building\n",
    "---\n",
    "\n",
    "..."
   ]
  },
  {
   "cell_type": "code",
   "execution_count": null,
   "metadata": {},
   "outputs": [],
   "source": []
  },
  {
   "cell_type": "markdown",
   "metadata": {},
   "source": [
    "# Part E: Model Evaluation\n",
    "---\n",
    "\n",
    "..."
   ]
  },
  {
   "cell_type": "code",
   "execution_count": null,
   "metadata": {},
   "outputs": [],
   "source": []
  },
  {
   "cell_type": "markdown",
   "metadata": {},
   "source": [
    "\n",
    "---\n",
    "---"
   ]
  },
  {
   "cell_type": "code",
   "execution_count": null,
   "metadata": {},
   "outputs": [
    {
     "name": "stdout",
     "output_type": "stream",
     "text": [
      "spacy: 3.8.2\n",
      "\n"
     ]
    }
   ],
   "source": [
    "# import watermark\n",
    "# print(watermark.watermark(packages=\"spacy\"))"
   ]
  }
 ],
 "metadata": {
  "kernelspec": {
   "display_name": "pythontest",
   "language": "python",
   "name": "python3"
  },
  "language_info": {
   "codemirror_mode": {
    "name": "ipython",
    "version": 3
   },
   "file_extension": ".py",
   "mimetype": "text/x-python",
   "name": "python",
   "nbconvert_exporter": "python",
   "pygments_lexer": "ipython3",
   "version": "3.12.2"
  }
 },
 "nbformat": 4,
 "nbformat_minor": 2
}
